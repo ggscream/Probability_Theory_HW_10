{
 "cells": [
  {
   "attachments": {},
   "cell_type": "markdown",
   "metadata": {},
   "source": [
    "**Провести дисперсионный анализ для определения того, есть ли различия среднего роста среди взрослых футболистов, хоккеистов и штангистов. Даны значения роста в трех группах случайно выбранных спортсменов:**\n",
    "\n",
    "**Футболисты: 173, 175, 180, 178, 177, 185, 183, 182.**\n",
    "\n",
    "**Хоккеисты: 177, 179, 180, 188, 177, 172, 171, 184, 180.**\n",
    "\n",
    "**Штангисты: 172, 173, 169, 177, 166, 180, 178, 177, 172, 166, 170.**"
   ]
  },
  {
   "attachments": {},
   "cell_type": "markdown",
   "metadata": {},
   "source": [
    "Для проведения post hoc теста выборки должны быть одинакового размера, поэтому дополним выборки футболистов и хоккеистов средними значениями в этих выборках, чтобы увеличение объема выборки не отражалось на среднем значении.\n",
    "\n",
    "k = 3, n = 33, α = 0.05.\n",
    "\n",
    "Cтепени свободы для определения табличного значения критерия Фишера 2 (k - 1) и 30 (n - k).\n",
    "\n",
    "Табличный критерий Фишера между 3.30 и 3.34."
   ]
  },
  {
   "cell_type": "code",
   "execution_count": 2,
   "metadata": {},
   "outputs": [
    {
     "data": {
      "text/plain": [
       "F_onewayResult(statistic=7.203535043000246, pvalue=0.002786358677591486)"
      ]
     },
     "execution_count": 2,
     "metadata": {},
     "output_type": "execute_result"
    }
   ],
   "source": [
    "import numpy as np\n",
    "import scipy.stats as stats \n",
    "\n",
    "soccer_player = np.array([173, 175, 180, 178, 177, 185, 183, 182, 178.667, 178.667, 178.667])\n",
    "hockey_player = np.array([177, 179, 180, 188, 177, 172, 171, 184, 180, 179.125, 179.125])\n",
    "weightlifter = np.array([172, 173, 169, 177, 166, 180, 178, 177, 172, 166, 170])\n",
    "\n",
    "stats.f_oneway(soccer_player, hockey_player, weightlifter)"
   ]
  },
  {
   "attachments": {},
   "cell_type": "markdown",
   "metadata": {},
   "source": [
    "Расчетный критерий Фишера равен 7.20353, что больше, чем табличный, который находится в диапазоне (3.34, 3.40). Следовательно, можно сделать вывод, что есть статистически значимые различия среднего роста.\n",
    "\n",
    "Для определения конкретных пар групп, между которыми наблюдаются различия, воспользуемся post hoc тестом Тьюки."
   ]
  },
  {
   "cell_type": "code",
   "execution_count": 4,
   "metadata": {},
   "outputs": [
    {
     "name": "stdout",
     "output_type": "stream",
     "text": [
      "    Multiple Comparison of Means - Tukey HSD, FWER=0.05    \n",
      "===========================================================\n",
      "group1    group2    meandiff p-adj   lower    upper  reject\n",
      "-----------------------------------------------------------\n",
      "hoсkey       soccer   0.2501 0.9902  -4.3634  4.8636  False\n",
      "hoсkey weightlifter  -6.0227 0.0084 -10.6363 -1.4092   True\n",
      "soccer weightlifter  -6.2728  0.006 -10.8863 -1.6593   True\n",
      "-----------------------------------------------------------\n"
     ]
    }
   ],
   "source": [
    "from statsmodels.stats.multicomp import pairwise_tukeyhsd\n",
    "import pandas as pd\n",
    "df = pd.DataFrame({'height':[173, 175, 180, 178, 177, 185, 183, 182, 178.667, 178.667, 178.667,\n",
    "                             177, 179, 180, 188, 177, 172, 171, 184, 180, 179.125, 179.125,\n",
    "                             172, 173, 169, 177, 166, 180, 178, 177, 172, 166, 170],\n",
    "                   'group': np.repeat(['soccer','hoсkey','weightlifter'], repeats = 11)})\n",
    "tukey = pairwise_tukeyhsd(endog=df['height'],\n",
    "                          groups=df['group'],\n",
    "                          alpha=0.05)\n",
    "print(tukey)"
   ]
  },
  {
   "attachments": {},
   "cell_type": "markdown",
   "metadata": {},
   "source": [
    " Результаты выполнения теста Тьюки говорят, что наблюдаются различия между штангистами и футболистами, а также между штангистами и хоккеистами. Статистически значимых различий среднего роста между хоккеистами и футболистами не обнаружено."
   ]
  }
 ],
 "metadata": {
  "kernelspec": {
   "display_name": "Python 3",
   "language": "python",
   "name": "python3"
  },
  "language_info": {
   "codemirror_mode": {
    "name": "ipython",
    "version": 3
   },
   "file_extension": ".py",
   "mimetype": "text/x-python",
   "name": "python",
   "nbconvert_exporter": "python",
   "pygments_lexer": "ipython3",
   "version": "3.8.2"
  },
  "orig_nbformat": 4,
  "vscode": {
   "interpreter": {
    "hash": "31f2aee4e71d21fbe5cf8b01ff0e069b9275f58929596ceb00d14d90e3e16cd6"
   }
  }
 },
 "nbformat": 4,
 "nbformat_minor": 2
}
